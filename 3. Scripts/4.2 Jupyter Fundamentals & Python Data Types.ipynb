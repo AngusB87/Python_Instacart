{
 "cells": [
  {
   "cell_type": "markdown",
   "id": "bbd16022",
   "metadata": {},
   "source": [
    "# 01. Importing Libraries"
   ]
  },
  {
   "cell_type": "code",
   "execution_count": null,
   "id": "8ddd3bea",
   "metadata": {},
   "outputs": [],
   "source": [
    "# Import libraries\n",
    "import pandas as pd\n",
    "import numpy as np\n",
    "import os"
   ]
  },
  {
   "cell_type": "markdown",
   "id": "6a908542",
   "metadata": {},
   "source": [
    "# 02. Python Data Types"
   ]
  },
  {
   "cell_type": "code",
   "execution_count": 1,
   "id": "0f34d7a6",
   "metadata": {},
   "outputs": [],
   "source": [
    "a = 50\n",
    "b = 25\n",
    "c = 10"
   ]
  },
  {
   "cell_type": "code",
   "execution_count": 2,
   "id": "16a5c886",
   "metadata": {},
   "outputs": [
    {
     "data": {
      "text/plain": [
       "100"
      ]
     },
     "execution_count": 2,
     "metadata": {},
     "output_type": "execute_result"
    }
   ],
   "source": [
    "a + a"
   ]
  },
  {
   "cell_type": "code",
   "execution_count": 3,
   "id": "90763c7a",
   "metadata": {},
   "outputs": [
    {
     "data": {
      "text/plain": [
       "100"
      ]
     },
     "execution_count": 3,
     "metadata": {},
     "output_type": "execute_result"
    }
   ],
   "source": [
    "a + b + b"
   ]
  },
  {
   "cell_type": "code",
   "execution_count": 4,
   "id": "974b9a83",
   "metadata": {},
   "outputs": [
    {
     "data": {
      "text/plain": [
       "100"
      ]
     },
     "execution_count": 4,
     "metadata": {},
     "output_type": "execute_result"
    }
   ],
   "source": [
    "(b * 2) + (c * 5)"
   ]
  },
  {
   "cell_type": "code",
   "execution_count": 5,
   "id": "9f0e0213",
   "metadata": {},
   "outputs": [],
   "source": [
    "d = 76.899\n",
    "e = 22.657"
   ]
  },
  {
   "cell_type": "code",
   "execution_count": 6,
   "id": "8a041f26",
   "metadata": {},
   "outputs": [
    {
     "data": {
      "text/plain": [
       "3.3940504038487003"
      ]
     },
     "execution_count": 6,
     "metadata": {},
     "output_type": "execute_result"
    }
   ],
   "source": [
    "d / e"
   ]
  },
  {
   "cell_type": "code",
   "execution_count": 7,
   "id": "3ba9c34b",
   "metadata": {},
   "outputs": [],
   "source": [
    "f = 'home'\n",
    "g = 'town'"
   ]
  },
  {
   "cell_type": "code",
   "execution_count": 8,
   "id": "501ced4f",
   "metadata": {},
   "outputs": [
    {
     "data": {
      "text/plain": [
       "'hometown'"
      ]
     },
     "execution_count": 8,
     "metadata": {},
     "output_type": "execute_result"
    }
   ],
   "source": [
    "f + g"
   ]
  },
  {
   "cell_type": "code",
   "execution_count": 12,
   "id": "8bfff122",
   "metadata": {},
   "outputs": [
    {
     "data": {
      "text/plain": [
       "'Its a little bit funny, this feeling inside, Im not one of those who can easily hide'"
      ]
     },
     "execution_count": 12,
     "metadata": {},
     "output_type": "execute_result"
    }
   ],
   "source": [
    "h = 'Its a little bit funny, '\n",
    "i = 'this feeling inside, '\n",
    "j = 'Im not one of those who can easily hide'\n",
    "h + i + j"
   ]
  },
  {
   "cell_type": "code",
   "execution_count": 11,
   "id": "70d215a3",
   "metadata": {},
   "outputs": [
    {
     "data": {
      "text/plain": [
       "'I see a little silhouetto of a man, Scaramouch, Scaramouch, will you do the Fandango!'"
      ]
     },
     "execution_count": 11,
     "metadata": {},
     "output_type": "execute_result"
    }
   ],
   "source": [
    "k = 'I see a little silhouetto of a man, '\n",
    "l = 'Scaramouch, '\n",
    "m = 'will you do the Fandango!'\n",
    "k + l + l + m"
   ]
  },
  {
   "cell_type": "markdown",
   "id": "60ea8667",
   "metadata": {},
   "source": [
    "## 03. Bonus Task"
   ]
  },
  {
   "cell_type": "code",
   "execution_count": 13,
   "id": "dfb3039d",
   "metadata": {
    "scrolled": true
   },
   "outputs": [
    {
     "data": {
      "text/plain": [
       "'Scaramouch, Scaramouch, Scaramouch, Scaramouch, Scaramouch, Scaramouch, Scaramouch, Scaramouch, Scaramouch, Scaramouch, Scaramouch, Scaramouch, Scaramouch, Scaramouch, Scaramouch, Scaramouch, Scaramouch, Scaramouch, Scaramouch, Scaramouch, Scaramouch, Scaramouch, Scaramouch, Scaramouch, Scaramouch, Scaramouch, Scaramouch, Scaramouch, Scaramouch, Scaramouch, Scaramouch, Scaramouch, Scaramouch, Scaramouch, Scaramouch, Scaramouch, Scaramouch, Scaramouch, Scaramouch, Scaramouch, Scaramouch, Scaramouch, Scaramouch, Scaramouch, Scaramouch, Scaramouch, Scaramouch, Scaramouch, Scaramouch, Scaramouch, Scaramouch, Scaramouch, Scaramouch, Scaramouch, Scaramouch, Scaramouch, Scaramouch, Scaramouch, Scaramouch, Scaramouch, Scaramouch, Scaramouch, Scaramouch, Scaramouch, Scaramouch, Scaramouch, Scaramouch, Scaramouch, Scaramouch, Scaramouch, Scaramouch, Scaramouch, Scaramouch, Scaramouch, Scaramouch, Scaramouch, Scaramouch, Scaramouch, Scaramouch, Scaramouch, Scaramouch, Scaramouch, Scaramouch, Scaramouch, Scaramouch, Scaramouch, Scaramouch, Scaramouch, Scaramouch, Scaramouch, Scaramouch, Scaramouch, Scaramouch, Scaramouch, Scaramouch, Scaramouch, Scaramouch, Scaramouch, Scaramouch, Scaramouch, '"
      ]
     },
     "execution_count": 13,
     "metadata": {},
     "output_type": "execute_result"
    }
   ],
   "source": [
    "l * 100"
   ]
  }
 ],
 "metadata": {
  "kernelspec": {
   "display_name": "Python 3 (ipykernel)",
   "language": "python",
   "name": "python3"
  },
  "language_info": {
   "codemirror_mode": {
    "name": "ipython",
    "version": 3
   },
   "file_extension": ".py",
   "mimetype": "text/x-python",
   "name": "python",
   "nbconvert_exporter": "python",
   "pygments_lexer": "ipython3",
   "version": "3.10.9"
  }
 },
 "nbformat": 4,
 "nbformat_minor": 5
}
